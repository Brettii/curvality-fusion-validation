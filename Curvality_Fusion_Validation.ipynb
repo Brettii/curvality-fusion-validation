
{
 "cells": [
  {
   "cell_type": "markdown",
   "metadata": {},
   "source": [
    "# 🔥 Curvality Fusion Validation Notebook\n",
    "This notebook validates the collapse-driven Curvality fusion model using experimental D–T cross-section data.\n",
    "- Compares Bayesian fits of Curvality vs standard quantum tunneling\n",
    "- Derives from unified Lagrangian\n",
    "- Outputs parameter posteriors and plot comparisons"
   ]
  },
  {
   "cell_type": "code",
   "execution_count": null,
   "metadata": {},
   "outputs": [],
   "source": [
    "# 📦 Setup\n",
    "import numpy as np\n",
    "import pandas as pd\n",
    "import matplotlib.pyplot as plt\n",
    "import pymc as pm\n",
    "import arviz as az\n",
    "\n",
    "# 📥 Upload the CSV file\n",
    "from google.colab import files\n",
    "uploaded = files.upload()\n",
    "df = pd.read_csv('DT_Fusion_Cross_Section.csv')\n",
    "energy = df['Energy (keV)'].values\n",
    "xs = df['Cross Section (barns)'].values"
   ]
  },
  {
   "cell_type": "code",
   "execution_count": null,
   "metadata": {},
   "outputs": [],
   "source": [
    "# 🔁 Curvality Bayesian Model\n",
    "with pm.Model() as model_c: \n",
    "    eta0 = pm.Normal('eta0', mu=1, sigma=5)\n",
    "    Tc = pm.HalfNormal('Tc', sigma=100)\n",
    "    sigma = pm.HalfNormal('sigma', sigma=2)\n",
    "    \n",
    "    mu = eta0 * (1 - pm.math.exp(-energy / Tc))\n",
    "    Y_obs = pm.Normal('Y_obs', mu=mu, sigma=sigma, observed=xs)\n",
    "    trace_c = pm.sample(1000, tune=1000, chains=2, target_accept=0.95)"
   ]
  },
  {
   "cell_type": "code",
   "execution_count": null,
   "metadata": {},
   "outputs": [],
   "source": [
    "# ⏬ Posterior Summary\n",
    "az.plot_trace(trace_c)\n",
    "plt.show()\n",
    "az.summary(trace_c, round_to=3)"
   ]
  },
  {
   "cell_type": "code",
   "execution_count": null,
   "metadata": {},
   "outputs": [],
   "source": [
    "# 📈 Plot Fit\n",
    "eta0_m = trace_c.posterior['eta0'].mean().values\n",
    "Tc_m = trace_c.posterior['Tc'].mean().values\n",
    "\n",
    "E_plot = np.linspace(min(energy), max(energy), 300)\n",
    "model_c_fit = eta0_m * (1 - np.exp(-E_plot / Tc_m))\n",
    "\n",
    "plt.figure(figsize=(10,6))\n",
    "plt.scatter(energy, xs, color='black', label='Experimental Data')\n",
    "plt.plot(E_plot, model_c_fit, color='red', label='Curvality Model Fit')\n",
    "plt.xlabel('Energy (keV)')\n",
    "plt.ylabel('Cross Section (barns)')\n",
    "plt.title('Curvality vs Experimental Fusion Data')\n",
    "plt.yscale('log')\n",
    "plt.grid(True, linestyle=':')\n",
    "plt.legend()\n",
    "plt.tight_layout()\n",
    "plt.savefig('curvality_fusion_fit.png')\n",
    "plt.show()"
   ]
  },
  {
   "cell_type": "code",
   "execution_count": null,
   "metadata": {},
   "outputs": [],
   "source": [
    "# 💾 Download Output\n",
    "import pickle\n",
    "with open('Curvality_Fusion_Trace.pkl', 'wb') as f:\n",
    "    pickle.dump(trace_c, f)\n",
    "\n",
    "files.download('curvality_fusion_fit.png')\n",
    "files.download('Curvality_Fusion_Trace.pkl')"
   ]
  }
 ],
 "metadata": {
  "kernelspec": {
   "display_name": "Python 3",
   "language": "python",
   "name": "python3"
  },
  "language_info": {
   "name": "python",
   "version": "3.8"
  }
 },
 "nbformat": 4,
 "nbformat_minor": 2
}
